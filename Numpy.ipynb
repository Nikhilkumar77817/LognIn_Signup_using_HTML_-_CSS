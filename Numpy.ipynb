{
  "nbformat": 4,
  "nbformat_minor": 0,
  "metadata": {
    "colab": {
      "provenance": [],
      "authorship_tag": "ABX9TyMeZ3YWnpTGFdIqCkp0BLVj"
    },
    "kernelspec": {
      "name": "python3",
      "display_name": "Python 3"
    },
    "language_info": {
      "name": "python"
    }
  },
  "cells": [
    {
      "cell_type": "markdown",
      "source": [
        "**Numpy**\n",
        "\n",
        "NumPy is a Python library used for working with numbers and data in the form of arrays (like tables or lists of numbers).\n",
        "\n",
        "\n",
        "* It helps you do mathematical calculations very fast.\n",
        "*   It provides a special object called ndarray (N-dimensional array), which is like a super-powerful list for handling big sets of numbers.\n",
        "*   It is mainly used in data science, machine learning, image processing, and scientific computing.\n",
        "\n",
        "\n",
        "\n"
      ],
      "metadata": {
        "id": "urxtBoo5tbmq"
      }
    },
    {
      "cell_type": "code",
      "source": [
        "#import numpy\n",
        "import numpy as np"
      ],
      "metadata": {
        "id": "WEidCJ7LtOj2"
      },
      "execution_count": null,
      "outputs": []
    },
    {
      "cell_type": "markdown",
      "source": [
        "**Creating Arrays in NumPy**"
      ],
      "metadata": {
        "id": "j_6cLBxk1jQ1"
      }
    },
    {
      "cell_type": "code",
      "source": [
        "\n",
        "arr1=[1,2,3,4,5]\n",
        "print(arr1)\n",
        "type(arr1)"
      ],
      "metadata": {
        "colab": {
          "base_uri": "https://localhost:8080/"
        },
        "id": "kBsrTg9ptPH2",
        "outputId": "674a5eaf-568d-465b-8bf2-a271a243c1e5"
      },
      "execution_count": null,
      "outputs": [
        {
          "output_type": "stream",
          "name": "stdout",
          "text": [
            "[1, 2, 3, 4, 5]\n"
          ]
        },
        {
          "output_type": "execute_result",
          "data": {
            "text/plain": [
              "list"
            ]
          },
          "metadata": {},
          "execution_count": 23
        }
      ]
    },
    {
      "cell_type": "code",
      "source": [
        "arr2 = np.array([[1.,2.,3.],[4.,5.,6.]])\n",
        "arr2"
      ],
      "metadata": {
        "colab": {
          "base_uri": "https://localhost:8080/"
        },
        "id": "Mh-BFcEYtPKX",
        "outputId": "37fe8c48-1eaf-44c6-d6cd-f9545b7487eb"
      },
      "execution_count": null,
      "outputs": [
        {
          "output_type": "execute_result",
          "data": {
            "text/plain": [
              "array([[1., 2., 3.],\n",
              "       [4., 5., 6.]])"
            ]
          },
          "metadata": {},
          "execution_count": 24
        }
      ]
    },
    {
      "cell_type": "code",
      "source": [
        "arr2 *  arr2"
      ],
      "metadata": {
        "colab": {
          "base_uri": "https://localhost:8080/"
        },
        "id": "VJ-DfsS1tPM3",
        "outputId": "5c8aea91-bc22-45fa-cb03-a11d9d49aecc"
      },
      "execution_count": null,
      "outputs": [
        {
          "output_type": "execute_result",
          "data": {
            "text/plain": [
              "array([[ 1.,  4.,  9.],\n",
              "       [16., 25., 36.]])"
            ]
          },
          "metadata": {},
          "execution_count": 25
        }
      ]
    },
    {
      "cell_type": "code",
      "source": [
        "\n",
        "arr2 + arr2"
      ],
      "metadata": {
        "colab": {
          "base_uri": "https://localhost:8080/"
        },
        "id": "JwOQdaPetPQA",
        "outputId": "0fc28009-3203-47a7-bb36-935bc8257f8a"
      },
      "execution_count": null,
      "outputs": [
        {
          "output_type": "execute_result",
          "data": {
            "text/plain": [
              "array([[ 2.,  4.,  6.],\n",
              "       [ 8., 10., 12.]])"
            ]
          },
          "metadata": {},
          "execution_count": 26
        }
      ]
    },
    {
      "cell_type": "code",
      "source": [
        "arr3 = np.array([[2,5,4],[6,2,8]])\n",
        "arr3"
      ],
      "metadata": {
        "colab": {
          "base_uri": "https://localhost:8080/"
        },
        "id": "LjoP2mK-tPTS",
        "outputId": "83272ef1-00b2-4d46-a6d9-3c1799ac39c5"
      },
      "execution_count": null,
      "outputs": [
        {
          "output_type": "execute_result",
          "data": {
            "text/plain": [
              "array([[2, 5, 4],\n",
              "       [6, 2, 8]])"
            ]
          },
          "metadata": {},
          "execution_count": 27
        }
      ]
    },
    {
      "cell_type": "code",
      "source": [
        "arr3 > arr2"
      ],
      "metadata": {
        "colab": {
          "base_uri": "https://localhost:8080/"
        },
        "id": "nE6Bg3J53NKb",
        "outputId": "facd4047-7452-48d4-a84f-4fce9f269fe5"
      },
      "execution_count": null,
      "outputs": [
        {
          "output_type": "execute_result",
          "data": {
            "text/plain": [
              "array([[ True,  True,  True],\n",
              "       [ True, False,  True]])"
            ]
          },
          "metadata": {},
          "execution_count": 28
        }
      ]
    },
    {
      "cell_type": "code",
      "source": [
        "\n",
        "\n",
        "b=np.array([(1,2,3,4),(5,6,7,8),(2,5,8,7)])\n",
        "print(b)\n",
        "b.shape"
      ],
      "metadata": {
        "colab": {
          "base_uri": "https://localhost:8080/"
        },
        "id": "LTtNKwzc3QwL",
        "outputId": "1f23d59c-5f54-487f-e080-d8407a4f9619"
      },
      "execution_count": null,
      "outputs": [
        {
          "output_type": "stream",
          "name": "stdout",
          "text": [
            "[[1 2 3 4]\n",
            " [5 6 7 8]\n",
            " [2 5 8 7]]\n"
          ]
        },
        {
          "output_type": "execute_result",
          "data": {
            "text/plain": [
              "(3, 4)"
            ]
          },
          "metadata": {},
          "execution_count": 29
        }
      ]
    },
    {
      "cell_type": "code",
      "source": [
        "# crate a numpy array of zeroes and ones\n",
        "x=np.zeros((4,5))\n",
        "print(x)"
      ],
      "metadata": {
        "colab": {
          "base_uri": "https://localhost:8080/"
        },
        "id": "uBHE6FFg3qUy",
        "outputId": "54d59998-a805-425b-e7db-53a3567c6118"
      },
      "execution_count": null,
      "outputs": [
        {
          "output_type": "stream",
          "name": "stdout",
          "text": [
            "[[0. 0. 0. 0. 0.]\n",
            " [0. 0. 0. 0. 0.]\n",
            " [0. 0. 0. 0. 0.]\n",
            " [0. 0. 0. 0. 0.]]\n"
          ]
        }
      ]
    },
    {
      "cell_type": "code",
      "source": [
        "# crate a numpy array of zeroes and ones\n",
        "x=np.ones((4,5))\n",
        "print(x)"
      ],
      "metadata": {
        "colab": {
          "base_uri": "https://localhost:8080/"
        },
        "id": "KCP0B-ur4NX5",
        "outputId": "ecac2868-6405-4973-d819-a3dcac3a4151"
      },
      "execution_count": null,
      "outputs": [
        {
          "output_type": "stream",
          "name": "stdout",
          "text": [
            "[[1. 1. 1. 1. 1.]\n",
            " [1. 1. 1. 1. 1.]\n",
            " [1. 1. 1. 1. 1.]\n",
            " [1. 1. 1. 1. 1.]]\n"
          ]
        }
      ]
    },
    {
      "cell_type": "code",
      "source": [
        "\n",
        "x=np.full((5,4),5)\n",
        "print(x)"
      ],
      "metadata": {
        "colab": {
          "base_uri": "https://localhost:8080/"
        },
        "id": "2bPNL7Gm4oGA",
        "outputId": "de447a06-2f73-400e-8a96-6606b5d650d0"
      },
      "execution_count": null,
      "outputs": [
        {
          "output_type": "stream",
          "name": "stdout",
          "text": [
            "[[5 5 5 5]\n",
            " [5 5 5 5]\n",
            " [5 5 5 5]\n",
            " [5 5 5 5]\n",
            " [5 5 5 5]]\n"
          ]
        }
      ]
    },
    {
      "cell_type": "code",
      "source": [
        "# this is identity matrix\n",
        "y=np.eye(5)\n",
        "print(y)"
      ],
      "metadata": {
        "colab": {
          "base_uri": "https://localhost:8080/"
        },
        "id": "uAlLwuR84ub4",
        "outputId": "df26c5fd-fa56-43b3-a711-9b15152a2777"
      },
      "execution_count": null,
      "outputs": [
        {
          "output_type": "stream",
          "name": "stdout",
          "text": [
            "[[1. 0. 0. 0. 0.]\n",
            " [0. 1. 0. 0. 0.]\n",
            " [0. 0. 1. 0. 0.]\n",
            " [0. 0. 0. 1. 0.]\n",
            " [0. 0. 0. 0. 1.]]\n"
          ]
        }
      ]
    },
    {
      "cell_type": "code",
      "source": [
        "y=np.arange(1,10,2)  # start=1, stop=10, step=2\n",
        "print(y)"
      ],
      "metadata": {
        "colab": {
          "base_uri": "https://localhost:8080/"
        },
        "id": "3qd9Zi_n5V7T",
        "outputId": "376f1abf-ae99-4407-c788-89d759c21c12"
      },
      "execution_count": null,
      "outputs": [
        {
          "output_type": "stream",
          "name": "stdout",
          "text": [
            "[1 3 5 7 9]\n"
          ]
        }
      ]
    },
    {
      "cell_type": "markdown",
      "source": [
        "**Array Attributes**\n",
        "\n"
      ],
      "metadata": {
        "id": "PA-f66aG636T"
      }
    },
    {
      "cell_type": "code",
      "source": [
        "arr = np.array([[1,2,3],[4,5,6]])\n",
        "\n",
        "print(arr.shape)   # (2,3) → 2 rows, 3 columns\n",
        "print(arr.ndim)    # 2 → number of dimensions\n",
        "print(arr.size)    # 6 → total elements\n",
        "print(arr.dtype)   # int64 → data type\n"
      ],
      "metadata": {
        "colab": {
          "base_uri": "https://localhost:8080/"
        },
        "id": "kBvHlmXj6cRV",
        "outputId": "815e9c70-34df-4cc4-9094-9efe13338606"
      },
      "execution_count": null,
      "outputs": [
        {
          "output_type": "stream",
          "name": "stdout",
          "text": [
            "(2, 3)\n",
            "2\n",
            "6\n",
            "int64\n"
          ]
        }
      ]
    },
    {
      "cell_type": "markdown",
      "source": [
        "**create random matrix**"
      ],
      "metadata": {
        "id": "w0DHgzie7XPl"
      }
    },
    {
      "cell_type": "code",
      "source": [
        "y=np.random.random((5,5))\n",
        "print(y)"
      ],
      "metadata": {
        "colab": {
          "base_uri": "https://localhost:8080/"
        },
        "id": "3rwTsluQ6cUx",
        "outputId": "b8f15193-45ab-464b-b54e-8327f97388f3"
      },
      "execution_count": null,
      "outputs": [
        {
          "output_type": "stream",
          "name": "stdout",
          "text": [
            "[[0.82866734 0.33884155 0.24290069 0.96925557 0.69915301]\n",
            " [0.82031894 0.44779232 0.26824284 0.45402744 0.0868388 ]\n",
            " [0.92981115 0.30691071 0.59507764 0.76611101 0.6554234 ]\n",
            " [0.40484598 0.97592665 0.77137545 0.77480058 0.83298018]\n",
            " [0.00762844 0.66918031 0.13131602 0.07817034 0.68020002]]\n"
          ]
        }
      ]
    },
    {
      "cell_type": "code",
      "source": [
        " # random integr values array within a specific range\n",
        "y=np.random.randint(10,100,(3,5))\n",
        "print(y)"
      ],
      "metadata": {
        "colab": {
          "base_uri": "https://localhost:8080/"
        },
        "id": "eINPIPCU6cYL",
        "outputId": "71b8fc06-7d56-4f16-dd25-9bc8ee175439"
      },
      "execution_count": null,
      "outputs": [
        {
          "output_type": "stream",
          "name": "stdout",
          "text": [
            "[[99 15 83 40 53]\n",
            " [18 45 99 19 41]\n",
            " [14 79 10 91 27]]\n"
          ]
        }
      ]
    },
    {
      "cell_type": "code",
      "source": [
        "arr = np.random.randn(2,3)\n",
        "arr"
      ],
      "metadata": {
        "colab": {
          "base_uri": "https://localhost:8080/"
        },
        "id": "arD6UGNP5wgu",
        "outputId": "a2993551-d34a-4dd1-d5c5-8bd4289085ee"
      },
      "execution_count": null,
      "outputs": [
        {
          "output_type": "execute_result",
          "data": {
            "text/plain": [
              "array([[ 0.40929656, -0.28679505, -0.26095144],\n",
              "       [ 0.10158662, -0.06626169, -1.01084148]])"
            ]
          },
          "metadata": {},
          "execution_count": 38
        }
      ]
    },
    {
      "cell_type": "code",
      "source": [
        "arr * 10"
      ],
      "metadata": {
        "colab": {
          "base_uri": "https://localhost:8080/"
        },
        "id": "7rHwC4LZ8r4u",
        "outputId": "d9953e20-69bc-4ad7-b946-4fef4401da56"
      },
      "execution_count": null,
      "outputs": [
        {
          "output_type": "execute_result",
          "data": {
            "text/plain": [
              "array([[  4.09296557,  -2.86795054,  -2.60951442],\n",
              "       [  1.01586624,  -0.66261691, -10.10841476]])"
            ]
          },
          "metadata": {},
          "execution_count": 39
        }
      ]
    },
    {
      "cell_type": "code",
      "source": [
        "arr + arr"
      ],
      "metadata": {
        "colab": {
          "base_uri": "https://localhost:8080/"
        },
        "id": "XALNHI-28xzN",
        "outputId": "e3f053ab-a667-4ba0-fb08-d4c6b0dfba43"
      },
      "execution_count": null,
      "outputs": [
        {
          "output_type": "execute_result",
          "data": {
            "text/plain": [
              "array([[ 0.81859311, -0.57359011, -0.52190288],\n",
              "       [ 0.20317325, -0.13252338, -2.02168295]])"
            ]
          },
          "metadata": {},
          "execution_count": 40
        }
      ]
    },
    {
      "cell_type": "markdown",
      "source": [
        "**Indexing and Slicing**"
      ],
      "metadata": {
        "id": "r9LXQYMu90AA"
      }
    },
    {
      "cell_type": "code",
      "source": [
        "names = np.array(['Bob', 'Joe', 'Will', 'Bob', 'Will', 'Joe', 'Joe'])\n",
        "names =='Bob'"
      ],
      "metadata": {
        "colab": {
          "base_uri": "https://localhost:8080/"
        },
        "id": "b0pbpxcQ814C",
        "outputId": "43fdb2a8-c731-4ca3-cbf4-5e335150639e"
      },
      "execution_count": null,
      "outputs": [
        {
          "output_type": "execute_result",
          "data": {
            "text/plain": [
              "array([ True, False, False,  True, False, False, False])"
            ]
          },
          "metadata": {},
          "execution_count": 41
        }
      ]
    },
    {
      "cell_type": "code",
      "source": [
        "names[names != 'Bob']"
      ],
      "metadata": {
        "colab": {
          "base_uri": "https://localhost:8080/"
        },
        "id": "quxsjtQp34S8",
        "outputId": "f4ccad5e-1de7-40d3-beaf-a667bcd68e56"
      },
      "execution_count": null,
      "outputs": [
        {
          "output_type": "execute_result",
          "data": {
            "text/plain": [
              "array(['Joe', 'Will', 'Will', 'Joe', 'Joe'], dtype='<U4')"
            ]
          },
          "metadata": {},
          "execution_count": 42
        }
      ]
    },
    {
      "cell_type": "code",
      "source": [
        "arr = np.empty((8,4))\n",
        "\n",
        "for i in range(8):\n",
        "    arr[i] = i\n",
        "\n",
        "arr"
      ],
      "metadata": {
        "colab": {
          "base_uri": "https://localhost:8080/"
        },
        "id": "JSzHrhKS38q4",
        "outputId": "cc1e6370-c92d-4e37-eaf0-39fb438bc32f"
      },
      "execution_count": null,
      "outputs": [
        {
          "output_type": "execute_result",
          "data": {
            "text/plain": [
              "array([[0., 0., 0., 0.],\n",
              "       [1., 1., 1., 1.],\n",
              "       [2., 2., 2., 2.],\n",
              "       [3., 3., 3., 3.],\n",
              "       [4., 4., 4., 4.],\n",
              "       [5., 5., 5., 5.],\n",
              "       [6., 6., 6., 6.],\n",
              "       [7., 7., 7., 7.]])"
            ]
          },
          "metadata": {},
          "execution_count": 43
        }
      ]
    },
    {
      "cell_type": "code",
      "source": [
        "arr = np.array([10, 20, 30, 40, 50])\n",
        "#Syntax: arr[start:stop:step]\n",
        "\n",
        "print(arr[0])     # 10\n",
        "print(arr[-1])    # 50\n",
        "print(arr[1:4])   # Elements from index 1 to 3 → [20 30 40]\n",
        "print(arr[:3])    # First 3 elements → [10 20 30]\n",
        "print(arr[2:])    # From index 2 to end → [30 40 50]\n",
        "print(arr[::2])   # Every 2nd element → [10 30 50]\n"
      ],
      "metadata": {
        "colab": {
          "base_uri": "https://localhost:8080/"
        },
        "id": "BKAUegQY4TG4",
        "outputId": "3481f794-11b0-4469-a317-e053e6ec77cf"
      },
      "execution_count": null,
      "outputs": [
        {
          "output_type": "stream",
          "name": "stdout",
          "text": [
            "10\n",
            "50\n",
            "[20 30 40]\n",
            "[20 30 40]\n",
            "[10 20 30]\n",
            "[30 40 50]\n",
            "[10 30 50]\n"
          ]
        }
      ]
    },
    {
      "cell_type": "code",
      "source": [
        "# Format: arr[row, col]\n",
        "arr2 = np.array([[1,2,3],[4,5,6],[7,8,9]])\n",
        "\n",
        "print(arr2[0, 2])   # element at 1st row, 3rd col → 3\n",
        "print(arr2[:, 1])   # entire 2nd column → [2 5 8]\n",
        "print(arr2[1, :])   # entire 2nd row → [4 5 6]\n",
        "print(arr3[0, 0])   # Element at row 0, col 0 → 1\n",
        "print(arr3[1, 2])   # Row 1, col 2 → 6\n",
        "print(arr3[-1, -1]) # Last row, last col → 9\n",
        "\n"
      ],
      "metadata": {
        "colab": {
          "base_uri": "https://localhost:8080/"
        },
        "id": "xvmeN8iv5is5",
        "outputId": "55422f40-c7f8-45c3-de7b-60aad4bd2f6c"
      },
      "execution_count": null,
      "outputs": [
        {
          "output_type": "stream",
          "name": "stdout",
          "text": [
            "3\n",
            "[2 5 8]\n",
            "[4 5 6]\n",
            "2\n",
            "8\n",
            "8\n"
          ]
        }
      ]
    },
    {
      "cell_type": "markdown",
      "source": [
        "**Mathematical and Statical Operation**"
      ],
      "metadata": {
        "id": "s4R8NhwFEMEd"
      }
    },
    {
      "cell_type": "code",
      "source": [
        "arr3=np.random.randint(10,100,(3,5))\n",
        "print(arr3)\n",
        "\n",
        "print(np.sum(arr3))    # 15\n",
        "print(np.mean(arr3))   # 3.0\n",
        "print(np.median(arr3)) # 3.0\n",
        "print(np.std(arr3))    # 1.414\n",
        "print(np.max(arr3))    # 5\n",
        "print(np.min(arr3))    # 1\n",
        "\n",
        "\n"
      ],
      "metadata": {
        "colab": {
          "base_uri": "https://localhost:8080/"
        },
        "id": "zwLaHFLk5wQA",
        "outputId": "5af67a06-d677-4720-f829-6911d00fab19"
      },
      "execution_count": null,
      "outputs": [
        {
          "output_type": "stream",
          "name": "stdout",
          "text": [
            "[[15 29 40 39 36]\n",
            " [43 99 62 24 81]\n",
            " [62 37 95 84 54]]\n",
            "800\n",
            "53.333333333333336\n",
            "43.0\n",
            "25.37365212621593\n",
            "99\n",
            "15\n"
          ]
        }
      ]
    },
    {
      "cell_type": "code",
      "source": [
        "arr = np.array([10, 20, 30, 40, 50])\n",
        "\n",
        "print(np.sum(arr))      # 150 (sum)\n",
        "print(np.mean(arr))     # 30.0 (average)\n",
        "print(np.median(arr))   # 30.0 (middle value)\n",
        "print(np.std(arr))      # 14.14 (standard deviation)\n",
        "print(np.var(arr))      # 200.0 (variance)\n",
        "print(np.max(arr))      # 50 (largest value)\n",
        "print(np.min(arr))      # 10 (smallest value)\n",
        "print(np.ptp(arr))      # 40 (max - min = peak to peak)\n"
      ],
      "metadata": {
        "colab": {
          "base_uri": "https://localhost:8080/"
        },
        "id": "FO43qhgCFHeP",
        "outputId": "a8d0736b-f9a5-4f3d-a67b-cbdd9ae6336e"
      },
      "execution_count": null,
      "outputs": [
        {
          "output_type": "stream",
          "name": "stdout",
          "text": [
            "150\n",
            "30.0\n",
            "30.0\n",
            "14.142135623730951\n",
            "200.0\n",
            "50\n",
            "10\n",
            "40\n"
          ]
        }
      ]
    },
    {
      "cell_type": "code",
      "source": [
        "arr2 = np.array([[1, 2, 3],\n",
        "                 [4, 5, 6],\n",
        "                 [7, 8, 9]])\n",
        "\n",
        "print(\"Sum of all elements:\", np.sum(arr2))\n",
        "print(\"Column-wise Sum:\", np.sum(arr2, axis=0)) # column wise\n",
        "print(\"Row-wise Sum:\", np.sum(arr2, axis=1))    # row wise\n"
      ],
      "metadata": {
        "colab": {
          "base_uri": "https://localhost:8080/"
        },
        "id": "-5dUEOCrc4Uc",
        "outputId": "fd2d93b8-c221-434c-e0e4-dd7c22d6b9b9"
      },
      "execution_count": 79,
      "outputs": [
        {
          "output_type": "stream",
          "name": "stdout",
          "text": [
            "Sum of all elements: 45\n",
            "Column-wise Sum: [12 15 18]\n",
            "Row-wise Sum: [ 6 15 24]\n"
          ]
        }
      ]
    },
    {
      "cell_type": "markdown",
      "source": [
        "**Reshaping and resizing array**"
      ],
      "metadata": {
        "id": "txaqMpRyS2M4"
      }
    },
    {
      "cell_type": "code",
      "source": [
        "#Transposing - Special form of reshaping\n",
        "arr5 = np.arange(15).reshape((3,5))\n",
        "arr5"
      ],
      "metadata": {
        "id": "3IujgO5yFo_z",
        "colab": {
          "base_uri": "https://localhost:8080/"
        },
        "outputId": "e500296d-c8a5-46f1-b250-685a0ce222f0"
      },
      "execution_count": 50,
      "outputs": [
        {
          "output_type": "execute_result",
          "data": {
            "text/plain": [
              "array([[ 0,  1,  2,  3,  4],\n",
              "       [ 5,  6,  7,  8,  9],\n",
              "       [10, 11, 12, 13, 14]])"
            ]
          },
          "metadata": {},
          "execution_count": 50
        }
      ]
    },
    {
      "cell_type": "code",
      "source": [
        "arr5.T"
      ],
      "metadata": {
        "colab": {
          "base_uri": "https://localhost:8080/"
        },
        "id": "_O5RFJ_vTK4y",
        "outputId": "d8564cfb-bb18-4aa7-a7a3-804dbf589ed6"
      },
      "execution_count": 53,
      "outputs": [
        {
          "output_type": "execute_result",
          "data": {
            "text/plain": [
              "array([[ 0,  5, 10],\n",
              "       [ 1,  6, 11],\n",
              "       [ 2,  7, 12],\n",
              "       [ 3,  8, 13],\n",
              "       [ 4,  9, 14]])"
            ]
          },
          "metadata": {},
          "execution_count": 53
        }
      ]
    },
    {
      "cell_type": "code",
      "source": [
        "arr6 = np.arange(16).reshape((2,2,4))\n",
        "arr6"
      ],
      "metadata": {
        "colab": {
          "base_uri": "https://localhost:8080/"
        },
        "id": "Ac0Pbd0jTQvU",
        "outputId": "532e7da3-a997-4bbb-aa09-667f4419d993"
      },
      "execution_count": 57,
      "outputs": [
        {
          "output_type": "execute_result",
          "data": {
            "text/plain": [
              "array([[[ 0,  1,  2,  3],\n",
              "        [ 4,  5,  6,  7]],\n",
              "\n",
              "       [[ 8,  9, 10, 11],\n",
              "        [12, 13, 14, 15]]])"
            ]
          },
          "metadata": {},
          "execution_count": 57
        }
      ]
    },
    {
      "cell_type": "code",
      "source": [
        "arr6.swapaxes(1,2)"
      ],
      "metadata": {
        "colab": {
          "base_uri": "https://localhost:8080/"
        },
        "id": "4tnc2k67Tqu4",
        "outputId": "fb3a4194-d02b-4bf4-e0af-b3bd1aaf23af"
      },
      "execution_count": 58,
      "outputs": [
        {
          "output_type": "execute_result",
          "data": {
            "text/plain": [
              "array([[[ 0,  4],\n",
              "        [ 1,  5],\n",
              "        [ 2,  6],\n",
              "        [ 3,  7]],\n",
              "\n",
              "       [[ 8, 12],\n",
              "        [ 9, 13],\n",
              "        [10, 14],\n",
              "        [11, 15]]])"
            ]
          },
          "metadata": {},
          "execution_count": 58
        }
      ]
    },
    {
      "cell_type": "code",
      "source": [
        "arr7 = np.array([[1, 2, 3],[4, 5, 6]])\n",
        "flat = arr7.reshape(-1)   # flatten\n",
        "print(flat)  # [1 2 3 4 5 6]\n"
      ],
      "metadata": {
        "colab": {
          "base_uri": "https://localhost:8080/"
        },
        "id": "NjXmTAEuVpf7",
        "outputId": "9b7ec3bb-48be-49a9-d890-f0a506d4ae75"
      },
      "execution_count": 60,
      "outputs": [
        {
          "output_type": "stream",
          "name": "stdout",
          "text": [
            "[1 2 3 4 5 6]\n"
          ]
        }
      ]
    },
    {
      "cell_type": "code",
      "source": [
        "# resize the array\n",
        "arr8 = np.array([1, 2, 3, 4])\n",
        "arr8.resize((3, 3))\n",
        "print(arr8)\n"
      ],
      "metadata": {
        "colab": {
          "base_uri": "https://localhost:8080/"
        },
        "id": "Y48NyqkgWnyU",
        "outputId": "458a4e99-b3c4-4b69-d104-e233bce25a99"
      },
      "execution_count": 61,
      "outputs": [
        {
          "output_type": "stream",
          "name": "stdout",
          "text": [
            "[[1 2 3]\n",
            " [4 0 0]\n",
            " [0 0 0]]\n"
          ]
        }
      ]
    },
    {
      "cell_type": "markdown",
      "source": [
        "**Sorting**"
      ],
      "metadata": {
        "id": "mkg0Kl8vXfFm"
      }
    },
    {
      "cell_type": "code",
      "source": [
        "Arr9 = np.array([5, 2, 9, 1, 7])\n",
        "print(\"Sorted:\", np.sort(Arr9))   # Ascending order"
      ],
      "metadata": {
        "colab": {
          "base_uri": "https://localhost:8080/"
        },
        "id": "y0n_d6LefJ-L",
        "outputId": "fba45ff2-f187-4c06-922f-4a29431ebbb2"
      },
      "execution_count": 88,
      "outputs": [
        {
          "output_type": "stream",
          "name": "stdout",
          "text": [
            "Sorted: [1 2 5 7 9]\n"
          ]
        }
      ]
    },
    {
      "cell_type": "code",
      "source": [
        "Ar9 = np.array([[3, 7, 1],[9, 2, 6]])\n",
        "\n",
        "print(\"Row-wise Sort:\", np.sort(Ar9, axis=1))\n",
        "print(\"Column-wise Sort:\", np.sort(Ar9, axis=0))\n"
      ],
      "metadata": {
        "colab": {
          "base_uri": "https://localhost:8080/"
        },
        "id": "YY4jSe4KfhAQ",
        "outputId": "f23e5752-190e-41ec-8d6c-9a5d7c9b5a24"
      },
      "execution_count": 89,
      "outputs": [
        {
          "output_type": "stream",
          "name": "stdout",
          "text": [
            "Row-wise Sort: [[1 3 7]\n",
            " [2 6 9]]\n",
            "Column-wise Sort: [[3 2 1]\n",
            " [9 7 6]]\n"
          ]
        }
      ]
    },
    {
      "cell_type": "code",
      "source": [
        "arr9 = np.random.rand(10)\n",
        "arr9"
      ],
      "metadata": {
        "colab": {
          "base_uri": "https://localhost:8080/"
        },
        "id": "qWSEqVYyXAnX",
        "outputId": "24b3ee11-9e6f-40a7-c741-99a42db26845"
      },
      "execution_count": 66,
      "outputs": [
        {
          "output_type": "execute_result",
          "data": {
            "text/plain": [
              "array([0.16377781, 0.47303031, 0.50644675, 0.24107727, 0.8866023 ,\n",
              "       0.70459172, 0.98000718, 0.79183706, 0.84745705, 0.15555932])"
            ]
          },
          "metadata": {},
          "execution_count": 66
        }
      ]
    },
    {
      "cell_type": "code",
      "source": [
        "arr9.sort()\n",
        "arr9"
      ],
      "metadata": {
        "colab": {
          "base_uri": "https://localhost:8080/"
        },
        "id": "YapyNpohXtxZ",
        "outputId": "a6a96c89-2b1b-42cc-9227-34d98db171d7"
      },
      "execution_count": 68,
      "outputs": [
        {
          "output_type": "execute_result",
          "data": {
            "text/plain": [
              "array([0.15555932, 0.16377781, 0.24107727, 0.47303031, 0.50644675,\n",
              "       0.70459172, 0.79183706, 0.84745705, 0.8866023 , 0.98000718])"
            ]
          },
          "metadata": {},
          "execution_count": 68
        }
      ]
    },
    {
      "cell_type": "markdown",
      "source": [
        "**Logical operation**"
      ],
      "metadata": {
        "id": "hdnsp8j8YxGy"
      }
    },
    {
      "cell_type": "code",
      "source": [
        "array1=np.array([1,2,3,4,5])\n",
        "array1[array1>3]\n"
      ],
      "metadata": {
        "colab": {
          "base_uri": "https://localhost:8080/"
        },
        "id": "HmVJJM6lYNbF",
        "outputId": "2f478fbc-6d43-42be-eee5-c0c8596b6436"
      },
      "execution_count": 70,
      "outputs": [
        {
          "output_type": "execute_result",
          "data": {
            "text/plain": [
              "array([4, 5])"
            ]
          },
          "metadata": {},
          "execution_count": 70
        }
      ]
    },
    {
      "cell_type": "code",
      "source": [
        "array1[array1<3]\n"
      ],
      "metadata": {
        "colab": {
          "base_uri": "https://localhost:8080/"
        },
        "id": "uN-WLd1yZqy3",
        "outputId": "69b5e5cd-ea9c-4178-dad6-496544006ba8"
      },
      "execution_count": 71,
      "outputs": [
        {
          "output_type": "execute_result",
          "data": {
            "text/plain": [
              "array([1, 2])"
            ]
          },
          "metadata": {},
          "execution_count": 71
        }
      ]
    },
    {
      "cell_type": "code",
      "source": [
        "array1[(array1>2) & (array1<5)]"
      ],
      "metadata": {
        "colab": {
          "base_uri": "https://localhost:8080/"
        },
        "id": "grsleQ9laArq",
        "outputId": "eae681c4-bfce-4174-804b-af7278ea2a45"
      },
      "execution_count": 72,
      "outputs": [
        {
          "output_type": "execute_result",
          "data": {
            "text/plain": [
              "array([3, 4])"
            ]
          },
          "metadata": {},
          "execution_count": 72
        }
      ]
    },
    {
      "cell_type": "code",
      "source": [
        "a = np.array([1, 0, 3, 0])\n",
        "b = np.array([1, 1, 0, 0])\n",
        "\n",
        "print(\"a:\", a)\n",
        "print(\"b:\", b)\n",
        "\n",
        "print(\"\\nLogical AND:\", np.logical_and(a, b))\n",
        "print(\"Logical OR:\", np.logical_or(a, b))\n",
        "print(\"Logical NOT of a:\", np.logical_not(a))\n",
        "print(\"Logical XOR:\", np.logical_xor(a, b))\n"
      ],
      "metadata": {
        "colab": {
          "base_uri": "https://localhost:8080/"
        },
        "id": "NPPeYVJ-aBaV",
        "outputId": "dfe2b6c1-cc0e-4c01-dba3-435df93d4b68"
      },
      "execution_count": 73,
      "outputs": [
        {
          "output_type": "stream",
          "name": "stdout",
          "text": [
            "a: [1 0 3 0]\n",
            "b: [1 1 0 0]\n",
            "\n",
            "Logical AND: [ True False False False]\n",
            "Logical OR: [ True  True  True False]\n",
            "Logical NOT of a: [False  True False  True]\n",
            "Logical XOR: [False  True  True False]\n"
          ]
        }
      ]
    },
    {
      "cell_type": "code",
      "source": [
        "Arr = np.arange(1, 11)\n",
        "\n",
        "# Get only even numbers\n",
        "even = Arr[Arr % 2 == 0]\n",
        "print(\"Even numbers:\", even)\n",
        "\n",
        "# Get numbers greater than 5 and even\n",
        "cond = np.logical_and(Arr > 5, Arr % 2 == 0)\n",
        "print(\"Even > 5:\", Arr[cond])\n"
      ],
      "metadata": {
        "colab": {
          "base_uri": "https://localhost:8080/"
        },
        "id": "Ul8YDNJ_aUao",
        "outputId": "eec63f55-2556-4b2e-ed73-af5bfc6128b0"
      },
      "execution_count": 75,
      "outputs": [
        {
          "output_type": "stream",
          "name": "stdout",
          "text": [
            "Even numbers: [ 2  4  6  8 10]\n",
            "Even > 5: [ 6  8 10]\n"
          ]
        }
      ]
    },
    {
      "cell_type": "code",
      "source": [
        "# np.where(condition, value_if_true, value_if_false)\n",
        "\n",
        "ar1 = np.array([5, 15, 10, 20])\n",
        "result = np.where(ar1 > 10, \"High\", \"Low\")\n",
        "print(result)\n"
      ],
      "metadata": {
        "colab": {
          "base_uri": "https://localhost:8080/"
        },
        "id": "FSKj_xhSa7Zw",
        "outputId": "b6bf229d-9d0d-4766-a894-5343ee6c3a44"
      },
      "execution_count": 77,
      "outputs": [
        {
          "output_type": "stream",
          "name": "stdout",
          "text": [
            "['Low' 'High' 'Low' 'High']\n"
          ]
        }
      ]
    },
    {
      "cell_type": "code",
      "source": [
        "# np.any() → if one is true  → return True\n",
        "#np.all() → if all true  → return True\n",
        "\n",
        "ar2 = np.array([1, 2, 3, 4, 5])\n",
        "print(\"Any > 4:\", np.any(ar2 > 4))   # True\n",
        "print(\"All > 0:\", np.all(ar2 > 0))   # True\n",
        "print(\"All > 2:\", np.all(ar2 > 2))   # False\n"
      ],
      "metadata": {
        "colab": {
          "base_uri": "https://localhost:8080/"
        },
        "id": "630_mtoSbxu-",
        "outputId": "7f917bde-cbdd-412d-cf43-eb0b794982ce"
      },
      "execution_count": 82,
      "outputs": [
        {
          "output_type": "stream",
          "name": "stdout",
          "text": [
            "Any > 4: True\n",
            "All > 0: True\n",
            "All > 2: False\n"
          ]
        }
      ]
    },
    {
      "cell_type": "markdown",
      "source": [
        "**Broadcasting**"
      ],
      "metadata": {
        "id": "I7jPr3PfdxZH"
      }
    },
    {
      "cell_type": "code",
      "source": [
        "ar3 = np.array([1, 2, 3, 4])\n",
        "print(ar3 + 5)   # scalar 5 broadcast hoga\n",
        "print(ar3 * 2)   # scalar 2 broadcast hoga\n"
      ],
      "metadata": {
        "colab": {
          "base_uri": "https://localhost:8080/"
        },
        "id": "bn0oeUtLcV7U",
        "outputId": "f9857739-4ac4-41f7-ef21-676a58722ce8"
      },
      "execution_count": 83,
      "outputs": [
        {
          "output_type": "stream",
          "name": "stdout",
          "text": [
            "[6 7 8 9]\n",
            "[2 4 6 8]\n"
          ]
        }
      ]
    },
    {
      "cell_type": "code",
      "source": [
        "ar4 = np.array([[1, 2, 3],[4, 5, 6]])\n",
        "row = np.array([10, 20, 30])\n",
        "result = ar4 + row\n",
        "print(result)\n"
      ],
      "metadata": {
        "colab": {
          "base_uri": "https://localhost:8080/"
        },
        "id": "AC78M5l3d9QZ",
        "outputId": "ac21864c-1b71-4b03-955f-9a4d6b91a0ed"
      },
      "execution_count": 84,
      "outputs": [
        {
          "output_type": "stream",
          "name": "stdout",
          "text": [
            "[[11 22 33]\n",
            " [14 25 36]]\n"
          ]
        }
      ]
    },
    {
      "cell_type": "code",
      "source": [
        "A = np.array([[1], [2], [3]])   # Shape (3,1)\n",
        "B = np.array([10, 20, 30])      # Shape (3,)\n",
        "print(A + B)"
      ],
      "metadata": {
        "colab": {
          "base_uri": "https://localhost:8080/"
        },
        "id": "QzD9HkJ1d_gA",
        "outputId": "b8a2be5a-a93f-4089-8ac1-311e4cc80469"
      },
      "execution_count": 85,
      "outputs": [
        {
          "output_type": "stream",
          "name": "stdout",
          "text": [
            "[[11 21 31]\n",
            " [12 22 32]\n",
            " [13 23 33]]\n"
          ]
        }
      ]
    },
    {
      "cell_type": "markdown",
      "source": [
        "**copy and view**"
      ],
      "metadata": {
        "id": "fyNSF9GYgl2s"
      }
    },
    {
      "cell_type": "code",
      "source": [
        "# copy= create new array\n",
        "ARR = np.array([10, 20, 30, 40])\n",
        "copy_arr = ARR.copy()   # deep copy\n",
        "\n",
        "copy_arr[0] = 999\n",
        "print(\"Copy:    \", copy_arr)\n"
      ],
      "metadata": {
        "colab": {
          "base_uri": "https://localhost:8080/"
        },
        "id": "2qztTutbgjxo",
        "outputId": "449723b6-3ecf-4102-82cc-e4e2354711f5"
      },
      "execution_count": 91,
      "outputs": [
        {
          "output_type": "stream",
          "name": "stdout",
          "text": [
            "Copy:     [999  20  30  40]\n"
          ]
        }
      ]
    },
    {
      "cell_type": "code",
      "source": [
        "#view = same as original\n",
        "ARR1 = np.array([10, 20, 30, 40])\n",
        "view_arr = ARR1.view()   # shallow copy\n",
        "view_arr[0] = 999\n",
        "print(\"View:    \", view_arr)\n"
      ],
      "metadata": {
        "colab": {
          "base_uri": "https://localhost:8080/"
        },
        "id": "Uq4GmLS7gk6y",
        "outputId": "e69d9130-e6a8-4d4f-b12c-3261b70d52aa"
      },
      "execution_count": 92,
      "outputs": [
        {
          "output_type": "stream",
          "name": "stdout",
          "text": [
            "View:     [999  20  30  40]\n"
          ]
        }
      ]
    }
  ]
}